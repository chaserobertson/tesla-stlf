{
 "cells": [
  {
   "cell_type": "code",
   "execution_count": 1,
   "metadata": {},
   "outputs": [
    {
     "data": {
      "text/plain": [
       "'/Reports/Archive/ROOFTOP_PV/FORECAST/PUBLIC_ROOFTOP_PV_FORECAST_20220414.zip'"
      ]
     },
     "execution_count": 1,
     "metadata": {},
     "output_type": "execute_result"
    }
   ],
   "source": [
    "from bs4 import BeautifulSoup\n",
    "import requests\n",
    "import zipfile\n",
    "import io\n",
    "\n",
    "domain = \"https://nemweb.com.au\"\n",
    "index_url = f'{domain}/Reports/Archive/ROOFTOP_PV/FORECAST/'\n",
    "\n",
    "response = requests.get(index_url)\n",
    "soup = BeautifulSoup(response.text, 'html.parser')\n",
    "\n",
    "links = [link.get('href') for link in soup.find_all('a')]\n",
    "link = links[1]\n",
    "link"
   ]
  },
  {
   "cell_type": "code",
   "execution_count": 2,
   "metadata": {},
   "outputs": [
    {
     "name": "stdout",
     "output_type": "stream",
     "text": [
      "https://nemweb.com.au/Reports/Archive/ROOFTOP_PV/FORECAST/PUBLIC_ROOFTOP_PV_FORECAST_20220414.zip\n"
     ]
    }
   ],
   "source": [
    "\n",
    "print(f'{domain}{link}')\n",
    "zip = requests.get(f'{domain}{link}')\n",
    "zip_file = io.BytesIO(zip.content)"
   ]
  },
  {
   "cell_type": "code",
   "execution_count": 20,
   "metadata": {},
   "outputs": [
    {
     "data": {
      "text/plain": [
       "'PUBLIC_ROOFTOP_PV_FORECAST_20220420233000_0000000361634130.zip'"
      ]
     },
     "execution_count": 20,
     "metadata": {},
     "output_type": "execute_result"
    }
   ],
   "source": [
    "\n",
    "with zipfile.ZipFile(zip_file, 'r') as zip_ref:\n",
    "    extracted = [zip_ref.read(file) for file in zip_ref.namelist()]\n",
    "ex = extracted[-1]\n",
    "ex"
   ]
  },
  {
   "cell_type": "code",
   "execution_count": 19,
   "metadata": {},
   "outputs": [
    {
     "name": "stdout",
     "output_type": "stream",
     "text": [
      "I,ROOFTOP,FORECAST,1,VERSION_DATETIME,REGIONID,INTERVAL_DATETIME,POWERMEAN,POWERPOE50,POWERPOELOW,POWERPOEHIGH,LASTCHANGED\n"
     ]
    }
   ],
   "source": [
    "zf = io.BytesIO(ex)\n",
    "with zipfile.ZipFile(zf, 'r') as zr:\n",
    "    with open('test.csv', 'w') as outfile:\n",
    "        text = zr.read(zr.namelist()[0]).decode()\n",
    "        lines = text.split('\\n')\n",
    "        print(lines[1])\n",
    "        outfile.writelines(lines[1:-2])"
   ]
  },
  {
   "cell_type": "code",
   "execution_count": 17,
   "metadata": {},
   "outputs": [],
   "source": [
    "with open('test.csv', 'w') as outfile:\n",
    "    outfile.writelines(['test\\n', 'test2\\n'])"
   ]
  }
 ],
 "metadata": {
  "kernelspec": {
   "display_name": "base",
   "language": "python",
   "name": "python3"
  },
  "language_info": {
   "codemirror_mode": {
    "name": "ipython",
    "version": 3
   },
   "file_extension": ".py",
   "mimetype": "text/x-python",
   "name": "python",
   "nbconvert_exporter": "python",
   "pygments_lexer": "ipython3",
   "version": "3.9.12"
  },
  "orig_nbformat": 4
 },
 "nbformat": 4,
 "nbformat_minor": 2
}
