{
 "cells": [
  {
   "cell_type": "code",
   "execution_count": 1,
   "id": "5a660957",
   "metadata": {},
   "outputs": [
    {
     "name": "stdout",
     "output_type": "stream",
     "text": [
      "Number of NaN values in each column in weather data:\n",
      "Row count: 62960\n",
      "date          0\n",
      "time          0\n",
      "tempc         5\n",
      "cloud8       18\n",
      "windk         5\n",
      "wdir          5\n",
      "humid         5\n",
      "rainmm       33\n",
      "radkjm2    6398\n",
      "dtype: int64\n"
     ]
    }
   ],
   "source": [
    "import pandas as pd\n",
    "import numpy as np\n",
    "\n",
    "weather_path = \"../data/au_adelaide_act.csv\"\n",
    "solar_path = \"../data/au_sa_iso_satellite_pv_load_act.csv\"\n",
    "\n",
    "# load and store dataset\n",
    "weather = pd.read_csv(weather_path)\n",
    "solar = pd.read_csv(solar_path)\n",
    "\n",
    "# 2. Missing values (-99):\n",
    "# replace missing values '-99' with NaN\n",
    "weather.replace(-99, np.nan, inplace = True)\n",
    "solar.replace(-99, np.nan, inplace = True)\n",
    "\n",
    "# for 'weather'(au_adelaide_act) dataset, the NaN counts of each column is:\n",
    "nan_counts_weather = weather.isna().sum()\n",
    "\n",
    "print(\"Number of NaN values in each column in weather data:\")\n",
    "print(\"Row count:\", len(weather))\n",
    "print(nan_counts_weather)"
   ]
  },
  {
   "cell_type": "markdown",
   "id": "f9801162",
   "metadata": {},
   "source": [
    "Combine date and time to datetime for both datasets"
   ]
  },
  {
   "cell_type": "code",
   "execution_count": 2,
   "id": "bdd78cf1",
   "metadata": {},
   "outputs": [
    {
     "data": {
      "text/html": [
       "<div>\n",
       "<style scoped>\n",
       "    .dataframe tbody tr th:only-of-type {\n",
       "        vertical-align: middle;\n",
       "    }\n",
       "\n",
       "    .dataframe tbody tr th {\n",
       "        vertical-align: top;\n",
       "    }\n",
       "\n",
       "    .dataframe thead th {\n",
       "        text-align: right;\n",
       "    }\n",
       "</style>\n",
       "<table border=\"1\" class=\"dataframe\">\n",
       "  <thead>\n",
       "    <tr style=\"text-align: right;\">\n",
       "      <th></th>\n",
       "      <th>load_act</th>\n",
       "      <th>datetime</th>\n",
       "    </tr>\n",
       "  </thead>\n",
       "  <tbody>\n",
       "    <tr>\n",
       "      <th>0</th>\n",
       "      <td>318.991</td>\n",
       "      <td>2018-03-06 09:30:00</td>\n",
       "    </tr>\n",
       "    <tr>\n",
       "      <th>1</th>\n",
       "      <td>375.231</td>\n",
       "      <td>2018-03-06 10:00:00</td>\n",
       "    </tr>\n",
       "    <tr>\n",
       "      <th>2</th>\n",
       "      <td>430.909</td>\n",
       "      <td>2018-03-06 10:30:00</td>\n",
       "    </tr>\n",
       "    <tr>\n",
       "      <th>3</th>\n",
       "      <td>485.129</td>\n",
       "      <td>2018-03-06 11:00:00</td>\n",
       "    </tr>\n",
       "    <tr>\n",
       "      <th>4</th>\n",
       "      <td>523.989</td>\n",
       "      <td>2018-03-06 11:30:00</td>\n",
       "    </tr>\n",
       "  </tbody>\n",
       "</table>\n",
       "</div>"
      ],
      "text/plain": [
       "   load_act            datetime\n",
       "0   318.991 2018-03-06 09:30:00\n",
       "1   375.231 2018-03-06 10:00:00\n",
       "2   430.909 2018-03-06 10:30:00\n",
       "3   485.129 2018-03-06 11:00:00\n",
       "4   523.989 2018-03-06 11:30:00"
      ]
     },
     "execution_count": 2,
     "metadata": {},
     "output_type": "execute_result"
    }
   ],
   "source": [
    "def to_datetime_df(df):\n",
    "    date = df['date'].astype('str')\n",
    "    time = df['time'].astype('str').str.pad(4, fillchar='0')\n",
    "    df['datetime'] = pd.to_datetime(date + time, format = '%Y%m%d%H%M')\n",
    "    df_d = df.drop(['date', 'time'], axis = 1)\n",
    "    return df_d\n",
    "\n",
    "weather_d = to_datetime_df(weather)\n",
    "solar_d = to_datetime_df(solar)\n",
    "solar_d.head()"
   ]
  },
  {
   "cell_type": "markdown",
   "id": "ce122f09",
   "metadata": {},
   "source": [
    "Weather data is hourly, so upsample to 30 minute increments and use linear interpolation to fill values."
   ]
  },
  {
   "cell_type": "code",
   "execution_count": 3,
   "id": "43c1c68e",
   "metadata": {
    "scrolled": true
   },
   "outputs": [
    {
     "data": {
      "text/html": [
       "<div>\n",
       "<style scoped>\n",
       "    .dataframe tbody tr th:only-of-type {\n",
       "        vertical-align: middle;\n",
       "    }\n",
       "\n",
       "    .dataframe tbody tr th {\n",
       "        vertical-align: top;\n",
       "    }\n",
       "\n",
       "    .dataframe thead th {\n",
       "        text-align: right;\n",
       "    }\n",
       "</style>\n",
       "<table border=\"1\" class=\"dataframe\">\n",
       "  <thead>\n",
       "    <tr style=\"text-align: right;\">\n",
       "      <th></th>\n",
       "      <th>tempc</th>\n",
       "      <th>cloud8</th>\n",
       "      <th>windk</th>\n",
       "      <th>wdir</th>\n",
       "      <th>humid</th>\n",
       "      <th>rainmm</th>\n",
       "      <th>radkjm2</th>\n",
       "    </tr>\n",
       "    <tr>\n",
       "      <th>datetime</th>\n",
       "      <th></th>\n",
       "      <th></th>\n",
       "      <th></th>\n",
       "      <th></th>\n",
       "      <th></th>\n",
       "      <th></th>\n",
       "      <th></th>\n",
       "    </tr>\n",
       "  </thead>\n",
       "  <tbody>\n",
       "    <tr>\n",
       "      <th>2016-01-01 00:00:00</th>\n",
       "      <td>27.40</td>\n",
       "      <td>3.0</td>\n",
       "      <td>5.0</td>\n",
       "      <td>80.0</td>\n",
       "      <td>19.0</td>\n",
       "      <td>0.0</td>\n",
       "      <td>NaN</td>\n",
       "    </tr>\n",
       "    <tr>\n",
       "      <th>2016-01-01 00:30:00</th>\n",
       "      <td>26.10</td>\n",
       "      <td>5.0</td>\n",
       "      <td>5.0</td>\n",
       "      <td>205.0</td>\n",
       "      <td>27.0</td>\n",
       "      <td>0.0</td>\n",
       "      <td>NaN</td>\n",
       "    </tr>\n",
       "    <tr>\n",
       "      <th>2016-01-01 01:00:00</th>\n",
       "      <td>24.80</td>\n",
       "      <td>7.0</td>\n",
       "      <td>5.0</td>\n",
       "      <td>330.0</td>\n",
       "      <td>35.0</td>\n",
       "      <td>0.0</td>\n",
       "      <td>NaN</td>\n",
       "    </tr>\n",
       "    <tr>\n",
       "      <th>2016-01-01 01:30:00</th>\n",
       "      <td>24.25</td>\n",
       "      <td>5.5</td>\n",
       "      <td>4.5</td>\n",
       "      <td>315.0</td>\n",
       "      <td>49.0</td>\n",
       "      <td>0.0</td>\n",
       "      <td>NaN</td>\n",
       "    </tr>\n",
       "    <tr>\n",
       "      <th>2016-01-01 02:00:00</th>\n",
       "      <td>23.70</td>\n",
       "      <td>4.0</td>\n",
       "      <td>4.0</td>\n",
       "      <td>300.0</td>\n",
       "      <td>63.0</td>\n",
       "      <td>0.0</td>\n",
       "      <td>NaN</td>\n",
       "    </tr>\n",
       "  </tbody>\n",
       "</table>\n",
       "</div>"
      ],
      "text/plain": [
       "                     tempc  cloud8  windk   wdir  humid  rainmm  radkjm2\n",
       "datetime                                                                \n",
       "2016-01-01 00:00:00  27.40     3.0    5.0   80.0   19.0     0.0      NaN\n",
       "2016-01-01 00:30:00  26.10     5.0    5.0  205.0   27.0     0.0      NaN\n",
       "2016-01-01 01:00:00  24.80     7.0    5.0  330.0   35.0     0.0      NaN\n",
       "2016-01-01 01:30:00  24.25     5.5    4.5  315.0   49.0     0.0      NaN\n",
       "2016-01-01 02:00:00  23.70     4.0    4.0  300.0   63.0     0.0      NaN"
      ]
     },
     "execution_count": 3,
     "metadata": {},
     "output_type": "execute_result"
    }
   ],
   "source": [
    "weather_resample = weather_d.set_index('datetime').resample('30min').asfreq()\n",
    "weather_interpolate = weather_resample.interpolate()\n",
    "weather_interpolate.head()"
   ]
  },
  {
   "cell_type": "markdown",
   "id": "c02a7550",
   "metadata": {},
   "source": [
    "Now, join datasets on timestamp, order columns nicely, and ensure post-join sort by datetime."
   ]
  },
  {
   "cell_type": "code",
   "execution_count": 10,
   "id": "b34db0f7",
   "metadata": {},
   "outputs": [
    {
     "data": {
      "text/html": [
       "<div>\n",
       "<style scoped>\n",
       "    .dataframe tbody tr th:only-of-type {\n",
       "        vertical-align: middle;\n",
       "    }\n",
       "\n",
       "    .dataframe tbody tr th {\n",
       "        vertical-align: top;\n",
       "    }\n",
       "\n",
       "    .dataframe thead th {\n",
       "        text-align: right;\n",
       "    }\n",
       "</style>\n",
       "<table border=\"1\" class=\"dataframe\">\n",
       "  <thead>\n",
       "    <tr style=\"text-align: right;\">\n",
       "      <th></th>\n",
       "      <th>datetime</th>\n",
       "      <th>load_act</th>\n",
       "      <th>tempc</th>\n",
       "      <th>cloud8</th>\n",
       "      <th>windk</th>\n",
       "      <th>wdir</th>\n",
       "      <th>humid</th>\n",
       "      <th>rainmm</th>\n",
       "      <th>radkjm2</th>\n",
       "    </tr>\n",
       "  </thead>\n",
       "  <tbody>\n",
       "    <tr>\n",
       "      <th>0</th>\n",
       "      <td>2018-03-06 09:30:00</td>\n",
       "      <td>318.991</td>\n",
       "      <td>20.75</td>\n",
       "      <td>2.5</td>\n",
       "      <td>14.5</td>\n",
       "      <td>135.0</td>\n",
       "      <td>44.5</td>\n",
       "      <td>0.0</td>\n",
       "      <td>1915.0</td>\n",
       "    </tr>\n",
       "    <tr>\n",
       "      <th>1</th>\n",
       "      <td>2018-03-06 10:00:00</td>\n",
       "      <td>375.231</td>\n",
       "      <td>21.50</td>\n",
       "      <td>1.0</td>\n",
       "      <td>16.0</td>\n",
       "      <td>140.0</td>\n",
       "      <td>40.0</td>\n",
       "      <td>0.0</td>\n",
       "      <td>2340.0</td>\n",
       "    </tr>\n",
       "    <tr>\n",
       "      <th>2</th>\n",
       "      <td>2018-03-06 10:30:00</td>\n",
       "      <td>430.909</td>\n",
       "      <td>22.25</td>\n",
       "      <td>1.5</td>\n",
       "      <td>15.5</td>\n",
       "      <td>145.0</td>\n",
       "      <td>37.0</td>\n",
       "      <td>0.0</td>\n",
       "      <td>2570.0</td>\n",
       "    </tr>\n",
       "    <tr>\n",
       "      <th>3</th>\n",
       "      <td>2018-03-06 11:00:00</td>\n",
       "      <td>485.129</td>\n",
       "      <td>23.00</td>\n",
       "      <td>2.0</td>\n",
       "      <td>15.0</td>\n",
       "      <td>150.0</td>\n",
       "      <td>34.0</td>\n",
       "      <td>0.0</td>\n",
       "      <td>2800.0</td>\n",
       "    </tr>\n",
       "    <tr>\n",
       "      <th>4</th>\n",
       "      <td>2018-03-06 11:30:00</td>\n",
       "      <td>523.989</td>\n",
       "      <td>23.55</td>\n",
       "      <td>2.0</td>\n",
       "      <td>13.0</td>\n",
       "      <td>145.0</td>\n",
       "      <td>32.0</td>\n",
       "      <td>0.0</td>\n",
       "      <td>2945.0</td>\n",
       "    </tr>\n",
       "  </tbody>\n",
       "</table>\n",
       "</div>"
      ],
      "text/plain": [
       "             datetime  load_act  tempc  cloud8  windk   wdir  humid  rainmm  \\\n",
       "0 2018-03-06 09:30:00   318.991  20.75     2.5   14.5  135.0   44.5     0.0   \n",
       "1 2018-03-06 10:00:00   375.231  21.50     1.0   16.0  140.0   40.0     0.0   \n",
       "2 2018-03-06 10:30:00   430.909  22.25     1.5   15.5  145.0   37.0     0.0   \n",
       "3 2018-03-06 11:00:00   485.129  23.00     2.0   15.0  150.0   34.0     0.0   \n",
       "4 2018-03-06 11:30:00   523.989  23.55     2.0   13.0  145.0   32.0     0.0   \n",
       "\n",
       "   radkjm2  \n",
       "0   1915.0  \n",
       "1   2340.0  \n",
       "2   2570.0  \n",
       "3   2800.0  \n",
       "4   2945.0  "
      ]
     },
     "execution_count": 10,
     "metadata": {},
     "output_type": "execute_result"
    }
   ],
   "source": [
    "mix_interpolate = pd.merge(weather_interpolate, solar_d, on='datetime', how='inner', copy=False, validate='1:1')\n",
    "mix_interpolate = mix_interpolate[['datetime','load_act','tempc','cloud8','windk','wdir','humid','rainmm','radkjm2']]\n",
    "mix_interpolate.sort_values('datetime', inplace=True)\n",
    "mix_interpolate.head()"
   ]
  },
  {
   "cell_type": "markdown",
   "id": "410b8a0b",
   "metadata": {},
   "source": [
    "Plot all values against timestamp for visual confirmation of success."
   ]
  },
  {
   "cell_type": "code",
   "execution_count": 5,
   "id": "acb25448",
   "metadata": {
    "scrolled": true
   },
   "outputs": [
    {
     "data": {
      "text/plain": [
       "array([<Axes: xlabel='datetime'>, <Axes: xlabel='datetime'>,\n",
       "       <Axes: xlabel='datetime'>, <Axes: xlabel='datetime'>,\n",
       "       <Axes: xlabel='datetime'>, <Axes: xlabel='datetime'>,\n",
       "       <Axes: xlabel='datetime'>, <Axes: xlabel='datetime'>], dtype=object)"
      ]
     },
     "execution_count": 5,
     "metadata": {},
     "output_type": "execute_result"
    },
    {
     "data": {
      "image/png": "[encoded data removed]",
      "text/plain": [
       "<Figure size 640x480 with 8 Axes>"
      ]
     },
     "metadata": {},
     "output_type": "display_data"
    }
   ],
   "source": [
    "mix_interpolate.plot(x='datetime', subplots=True)"
   ]
  },
  {
   "cell_type": "markdown",
   "id": "7064771e",
   "metadata": {},
   "source": [
    "Looks good enough - write to file."
   ]
  },
  {
   "cell_type": "code",
   "execution_count": 6,
   "id": "b4fdcca7",
   "metadata": {},
   "outputs": [],
   "source": [
    "mix_interpolate.to_csv('../data/weather_solar_interpolate.csv', index=False)"
   ]
  }
 ],
 "metadata": {
  "kernelspec": {
   "display_name": "Python 3 (ipykernel)",
   "language": "python",
   "name": "python3"
  },
  "language_info": {
   "codemirror_mode": {
    "name": "ipython",
    "version": 3
   },
   "file_extension": ".py",
   "mimetype": "text/x-python",
   "name": "python",
   "nbconvert_exporter": "python",
   "pygments_lexer": "ipython3",
   "version": "3.9.12"
  }
 },
 "nbformat": 4,
 "nbformat_minor": 5
}
