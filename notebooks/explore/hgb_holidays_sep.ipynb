{
 "cells": [
  {
   "cell_type": "code",
   "execution_count": 1,
   "metadata": {},
   "outputs": [
    {
     "name": "stdout",
     "output_type": "stream",
     "text": [
      "49  windows to be trained\n"
     ]
    }
   ],
   "source": [
    "import numpy as np\n",
    "import pandas as pd\n",
    "from tscv import GapRollForward\n",
    "from tqdm.notebook import tqdm\n",
    "from sklearn.ensemble import HistGradientBoostingRegressor\n",
    "import seaborn as sns\n",
    "sns.set_theme(palette='viridis', font_scale=2, font='times', style='white')\n",
    "\n",
    "region = 'sa'\n",
    "\n",
    "# extract holidays from file\n",
    "holiday_df = pd.read_csv('../data/holidays2017_2024.csv', dtype='str')\n",
    "holiday_df['Date'] = holiday_df['Date'].astype('datetime64[ns]').dt.date\n",
    "holidays = holiday_df.loc[holiday_df['Jurisdiction'] == region, ['Date', 'Holiday Name']]\n",
    "\n",
    "# import and preprocess load and weather data\n",
    "df = pd.read_csv(f'../data/{region}/merged.csv')\n",
    "df['datetime'] = df['datetime'].astype('datetime64')\n",
    "dt = df['datetime'].dt\n",
    "df['year'] = dt.year\n",
    "df['month'] = dt.month\n",
    "df['day'] = dt.day\n",
    "df['hour'] = dt.hour\n",
    "df['minute'] = dt.minute\n",
    "df['dow'] = dt.day_of_week\n",
    "df['week'] = dt.isocalendar().week\n",
    "\n",
    "# compute universal X and y column indices\n",
    "X_EXCLUDE = ['datetime', 'net_load', 'total_load']\n",
    "X_cols = np.setdiff1d(df.columns.values, X_EXCLUDE)\n",
    "y_ind = df.columns.get_loc('net_load')\n",
    "\n",
    "# add holiday encodings\n",
    "df['holiday'] = dt.date.isin(holidays['Date']).astype('int')\n",
    "\n",
    "# for convenience below\n",
    "obs = np.arange(1000) * 24\n",
    "\n",
    "# create train/test window strategies\n",
    "tscv = GapRollForward(\n",
    "    min_train_size = obs[365], \n",
    "    max_train_size = obs[365],\n",
    "    min_test_size = obs[7], \n",
    "    max_test_size = obs[7],\n",
    "    roll_size = obs[30])\n",
    "\n",
    "print(sum(1 for i in tscv.split(df)), f' windows to be trained')"
   ]
  },
  {
   "cell_type": "code",
   "execution_count": 2,
   "metadata": {},
   "outputs": [
    {
     "data": {
      "application/vnd.jupyter.widget-view+json": {
       "model_id": "68efac0657bb404bbb3a10d0313df372",
       "version_major": 2,
       "version_minor": 0
      },
      "text/plain": [
       "0it [00:00, ?it/s]"
      ]
     },
     "metadata": {},
     "output_type": "display_data"
    }
   ],
   "source": [
    "prdfs = []\n",
    "# execute train/test window strategies\n",
    "for i, (train_ind, test_ind) in tqdm(enumerate(tscv.split(df))):\n",
    "    for include in [[], ['holiday']]:\n",
    "        X_inds = sorted(df.columns.get_indexer_for(X_cols.tolist() + include))\n",
    "\n",
    "        X_train, X_test = df.iloc[train_ind, X_inds], df.iloc[test_ind, X_inds]\n",
    "        y_train, y_test = df.iloc[train_ind, y_ind], df.iloc[test_ind, y_ind]\n",
    "\n",
    "        # train model\n",
    "        begin, end = df.iloc[[train_ind[0], train_ind[-1]], 0].dt.date\n",
    "        model = HistGradientBoostingRegressor()\n",
    "        model.fit(X_train, y_train)\n",
    "\n",
    "        # predict\n",
    "        prd = model.predict(X_test)\n",
    "        prdf = pd.DataFrame({'datetime': df.iloc[test_ind, 0],\n",
    "                            'model': i,\n",
    "                            'include': len(include),\n",
    "                            'holiday': df.iloc[test_ind,:]['holiday'],\n",
    "                            'train_end': end,\n",
    "                            'predicted': prd,\n",
    "                            'net_load': y_test})\n",
    "        prdfs.append(prdf)\n",
    "\n",
    "# concatenate predictions and compute discrete error metrics\n",
    "predictions = pd.concat(prdfs)\n",
    "predictions['Residual'] = predictions['predicted'] - predictions['net_load']\n",
    "predictions['Absolute Error'] = predictions['Residual'].abs()\n",
    "predictions['Percent Error'] = predictions['Residual'] / predictions['net_load']\n",
    "predictions['Absolute Percent Error'] = predictions['Percent Error'].abs()\n",
    "predictions['Squared Error'] = predictions['Residual'] ** 2"
   ]
  },
  {
   "cell_type": "code",
   "execution_count": 4,
   "metadata": {},
   "outputs": [
    {
     "data": {
      "text/html": [
       "<div>\n",
       "<style scoped>\n",
       "    .dataframe tbody tr th:only-of-type {\n",
       "        vertical-align: middle;\n",
       "    }\n",
       "\n",
       "    .dataframe tbody tr th {\n",
       "        vertical-align: top;\n",
       "    }\n",
       "\n",
       "    .dataframe thead th {\n",
       "        text-align: right;\n",
       "    }\n",
       "</style>\n",
       "<table border=\"1\" class=\"dataframe\">\n",
       "  <thead>\n",
       "    <tr style=\"text-align: right;\">\n",
       "      <th></th>\n",
       "      <th>include</th>\n",
       "      <th>holiday</th>\n",
       "      <th>count</th>\n",
       "      <th>MAE</th>\n",
       "      <th>MAPE</th>\n",
       "      <th>RMSE</th>\n",
       "    </tr>\n",
       "  </thead>\n",
       "  <tbody>\n",
       "    <tr>\n",
       "      <th>0</th>\n",
       "      <td>0</td>\n",
       "      <td>0</td>\n",
       "      <td>7886</td>\n",
       "      <td>78.6884</td>\n",
       "      <td>0.0656</td>\n",
       "      <td>114.4355</td>\n",
       "    </tr>\n",
       "    <tr>\n",
       "      <th>1</th>\n",
       "      <td>0</td>\n",
       "      <td>1</td>\n",
       "      <td>346</td>\n",
       "      <td>126.6982</td>\n",
       "      <td>0.1491</td>\n",
       "      <td>159.2306</td>\n",
       "    </tr>\n",
       "    <tr>\n",
       "      <th>2</th>\n",
       "      <td>1</td>\n",
       "      <td>0</td>\n",
       "      <td>7886</td>\n",
       "      <td>78.6376</td>\n",
       "      <td>0.0655</td>\n",
       "      <td>113.8731</td>\n",
       "    </tr>\n",
       "    <tr>\n",
       "      <th>3</th>\n",
       "      <td>1</td>\n",
       "      <td>1</td>\n",
       "      <td>346</td>\n",
       "      <td>78.5736</td>\n",
       "      <td>0.0978</td>\n",
       "      <td>104.8791</td>\n",
       "    </tr>\n",
       "  </tbody>\n",
       "</table>\n",
       "</div>"
      ],
      "text/plain": [
       "   include  holiday  count       MAE    MAPE      RMSE\n",
       "0        0        0   7886   78.6884  0.0656  114.4355\n",
       "1        0        1    346  126.6982  0.1491  159.2306\n",
       "2        1        0   7886   78.6376  0.0655  113.8731\n",
       "3        1        1    346   78.5736  0.0978  104.8791"
      ]
     },
     "execution_count": 4,
     "metadata": {},
     "output_type": "execute_result"
    }
   ],
   "source": [
    "metrics = predictions.groupby(['include', 'holiday']).agg(\n",
    "    count = ('datetime', 'count'), \n",
    "    MAE = ('Absolute Error', 'mean'), \n",
    "    MAPE = ('Absolute Percent Error', 'mean'), \n",
    "    RMSE = ('Squared Error', lambda x: np.sqrt(x.mean()))\n",
    ").reset_index().round(4)\n",
    "\n",
    "metrics"
   ]
  }
 ],
 "metadata": {
  "kernelspec": {
   "display_name": "base",
   "language": "python",
   "name": "python3"
  },
  "language_info": {
   "codemirror_mode": {
    "name": "ipython",
    "version": 3
   },
   "file_extension": ".py",
   "mimetype": "text/x-python",
   "name": "python",
   "nbconvert_exporter": "python",
   "pygments_lexer": "ipython3",
   "version": "3.9.12"
  },
  "orig_nbformat": 4
 },
 "nbformat": 4,
 "nbformat_minor": 2
}
