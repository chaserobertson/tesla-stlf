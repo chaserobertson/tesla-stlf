{
 "cells": [
  {
   "cell_type": "code",
   "execution_count": 1,
   "metadata": {},
   "outputs": [
    {
     "name": "stdout",
     "output_type": "stream",
     "text": [
      "25  sliding windows to be trained\n"
     ]
    },
    {
     "data": {
      "text/plain": [
       "array(['cloud8', 'day', 'dow', 'holiday', 'hour', 'humid', 'minute',\n",
       "       'month', 'pv_est', 'radkjm2', 'rainmm', 'tempc', 'wdir', 'week',\n",
       "       'windk', 'year'], dtype=object)"
      ]
     },
     "execution_count": 1,
     "metadata": {},
     "output_type": "execute_result"
    }
   ],
   "source": [
    "import numpy as np\n",
    "import pandas as pd\n",
    "from tscv import GapRollForward\n",
    "from tqdm.notebook import tqdm\n",
    "from sklearn.ensemble import HistGradientBoostingRegressor\n",
    "\n",
    "region = 'sa'\n",
    "\n",
    "# extract holidays from file\n",
    "holiday_df = pd.read_csv('../data/holidays2017_2024.csv', dtype='str')\n",
    "holiday_df['Date'] = holiday_df['Date'].astype('datetime64[ns]').dt.date\n",
    "holidays = holiday_df.loc[holiday_df['Jurisdiction'] == region, ['Date', 'Holiday Name']]\n",
    "\n",
    "# import and preprocess load and weather data\n",
    "df = pd.read_csv(f'../data/{region}/merged.csv')\n",
    "df['datetime'] = df['datetime'].astype('datetime64')\n",
    "dt = df['datetime'].dt\n",
    "df['year'] = dt.year\n",
    "df['month'] = dt.month\n",
    "df['day'] = dt.day\n",
    "df['hour'] = dt.hour\n",
    "df['minute'] = dt.minute\n",
    "df['dow'] = dt.day_of_week\n",
    "df['week'] = dt.isocalendar().week\n",
    "\n",
    "# add holiday encodings\n",
    "df['holiday'] = dt.date.isin(holidays['Date']).astype('int')\n",
    "\n",
    "# compute X and y column indices\n",
    "X_EXCLUDE = ['datetime', 'net_load', 'total_load']\n",
    "X_cols = np.setdiff1d(df.columns.values, X_EXCLUDE)\n",
    "y_ind = df.columns.get_loc('net_load')\n",
    "X_inds = sorted(df.columns.get_indexer_for(X_cols.tolist()))\n",
    "\n",
    "# for convenience below\n",
    "obs = np.arange(1000) * 24\n",
    "\n",
    "# create train/test window strategies\n",
    "\n",
    "tscv = GapRollForward(\n",
    "    min_train_size = obs[365],\n",
    "    max_train_size = obs[365],\n",
    "    min_test_size = obs[7], \n",
    "    max_test_size = obs[7],\n",
    "    roll_size = obs[60])\n",
    "\n",
    "print(sum(1 for i in tscv.split(df)), f' sliding windows to be trained')\n",
    "X_cols"
   ]
  },
  {
   "cell_type": "code",
   "execution_count": 2,
   "metadata": {},
   "outputs": [
    {
     "data": {
      "application/vnd.jupyter.widget-view+json": {
       "model_id": "cdd0d5ed58ca4030ab0b66c4557b906a",
       "version_major": 2,
       "version_minor": 0
      },
      "text/plain": [
       "0it [00:00, ?it/s]"
      ]
     },
     "metadata": {},
     "output_type": "display_data"
    }
   ],
   "source": [
    "prdfs = []\n",
    "# execute train/test window strategies\n",
    "for i, (train_ind, test_ind) in tqdm(enumerate(tscv.split(df))):\n",
    "    begin, end = df.iloc[[train_ind[0], train_ind[-1]], 0].dt.date\n",
    "    for window in ['fixed', 'extended', 'super_extended']:\n",
    "        if window == 'extended':\n",
    "            mask = np.logical_and(df['datetime'].dt.date < begin, df['holiday'])\n",
    "            train_ind = np.union1d(train_ind, np.where(mask)[0])\n",
    "        elif window == 'super_extended':\n",
    "            mask = np.logical_and(df['datetime'].dt.date < begin, df['dow'] > 4)\n",
    "            train_ind = np.union1d(train_ind, np.where(mask)[0])\n",
    "        \n",
    "        X_train, X_test = df.iloc[train_ind, X_inds], df.iloc[test_ind, X_inds]\n",
    "        y_train, y_test = df.iloc[train_ind, y_ind], df.iloc[test_ind, y_ind]        \n",
    "\n",
    "        # train model\n",
    "        model = HistGradientBoostingRegressor()\n",
    "        model.fit(X_train, y_train)\n",
    "\n",
    "        # predict\n",
    "        prd = model.predict(X_test)\n",
    "        prdf = pd.DataFrame({'datetime': df.iloc[test_ind, 0],\n",
    "                             'holiday': X_test['holiday'],\n",
    "                            'model': i,\n",
    "                            'size': len(train_ind),\n",
    "                            'window': window,\n",
    "                            'train_end': end,\n",
    "                            'predicted': prd,\n",
    "                            'net_load': y_test})\n",
    "        prdfs.append(prdf)\n",
    "\n",
    "# concatenate predictions and compute discrete error metrics\n",
    "predictions = pd.concat(prdfs)\n",
    "predictions['Residual'] = predictions['predicted'] - predictions['net_load']\n",
    "predictions['Absolute Error'] = predictions['Residual'].abs()\n",
    "predictions['Percent Error'] = predictions['Residual'] / predictions['net_load']\n",
    "predictions['Absolute Percent Error'] = predictions['Percent Error'].abs()\n",
    "predictions['Squared Error'] = predictions['Residual'] ** 2"
   ]
  },
  {
   "cell_type": "code",
   "execution_count": 3,
   "metadata": {},
   "outputs": [
    {
     "data": {
      "text/html": [
       "<div>\n",
       "<style scoped>\n",
       "    .dataframe tbody tr th:only-of-type {\n",
       "        vertical-align: middle;\n",
       "    }\n",
       "\n",
       "    .dataframe tbody tr th {\n",
       "        vertical-align: top;\n",
       "    }\n",
       "\n",
       "    .dataframe thead th {\n",
       "        text-align: right;\n",
       "    }\n",
       "</style>\n",
       "<table border=\"1\" class=\"dataframe\">\n",
       "  <thead>\n",
       "    <tr style=\"text-align: right;\">\n",
       "      <th></th>\n",
       "      <th>window</th>\n",
       "      <th>holiday</th>\n",
       "      <th>size</th>\n",
       "      <th>MAE</th>\n",
       "      <th>MAPE</th>\n",
       "      <th>RMSE</th>\n",
       "    </tr>\n",
       "  </thead>\n",
       "  <tbody>\n",
       "    <tr>\n",
       "      <th>0</th>\n",
       "      <td>extended</td>\n",
       "      <td>0</td>\n",
       "      <td>9309.804878</td>\n",
       "      <td>74.962935</td>\n",
       "      <td>0.067471</td>\n",
       "      <td>103.908091</td>\n",
       "    </tr>\n",
       "    <tr>\n",
       "      <th>2</th>\n",
       "      <td>fixed</td>\n",
       "      <td>0</td>\n",
       "      <td>8760.000000</td>\n",
       "      <td>73.493369</td>\n",
       "      <td>0.065446</td>\n",
       "      <td>101.200576</td>\n",
       "    </tr>\n",
       "    <tr>\n",
       "      <th>4</th>\n",
       "      <td>super_extended</td>\n",
       "      <td>0</td>\n",
       "      <td>14155.792683</td>\n",
       "      <td>72.797004</td>\n",
       "      <td>0.065707</td>\n",
       "      <td>100.133154</td>\n",
       "    </tr>\n",
       "    <tr>\n",
       "      <th>1</th>\n",
       "      <td>extended</td>\n",
       "      <td>1</td>\n",
       "      <td>9268.363636</td>\n",
       "      <td>81.504933</td>\n",
       "      <td>0.113826</td>\n",
       "      <td>115.928265</td>\n",
       "    </tr>\n",
       "    <tr>\n",
       "      <th>3</th>\n",
       "      <td>fixed</td>\n",
       "      <td>1</td>\n",
       "      <td>8760.000000</td>\n",
       "      <td>79.359120</td>\n",
       "      <td>0.107650</td>\n",
       "      <td>107.485128</td>\n",
       "    </tr>\n",
       "    <tr>\n",
       "      <th>5</th>\n",
       "      <td>super_extended</td>\n",
       "      <td>1</td>\n",
       "      <td>14085.272727</td>\n",
       "      <td>86.334954</td>\n",
       "      <td>0.119539</td>\n",
       "      <td>117.266098</td>\n",
       "    </tr>\n",
       "  </tbody>\n",
       "</table>\n",
       "</div>"
      ],
      "text/plain": [
       "           window  holiday          size        MAE      MAPE        RMSE\n",
       "0        extended        0   9309.804878  74.962935  0.067471  103.908091\n",
       "2           fixed        0   8760.000000  73.493369  0.065446  101.200576\n",
       "4  super_extended        0  14155.792683  72.797004  0.065707  100.133154\n",
       "1        extended        1   9268.363636  81.504933  0.113826  115.928265\n",
       "3           fixed        1   8760.000000  79.359120  0.107650  107.485128\n",
       "5  super_extended        1  14085.272727  86.334954  0.119539  117.266098"
      ]
     },
     "execution_count": 3,
     "metadata": {},
     "output_type": "execute_result"
    }
   ],
   "source": [
    "metrics = predictions.groupby(['window', 'holiday']).mean(numeric_only = True).reset_index()\n",
    "metrics['RMSE'] = np.sqrt(metrics['Squared Error'])\n",
    "metrics['MAE'] = metrics['Absolute Error']\n",
    "metrics['MAPE'] = metrics['Absolute Percent Error']\n",
    "\n",
    "metrics[['window', 'holiday', 'size', 'MAE', 'MAPE', 'RMSE']].sort_values(['holiday', 'window'])"
   ]
  },
  {
   "cell_type": "code",
   "execution_count": 4,
   "metadata": {},
   "outputs": [
    {
     "data": {
      "text/plain": [
       "<seaborn.axisgrid.FacetGrid at 0x7fc98f15af40>"
      ]
     },
     "execution_count": 4,
     "metadata": {},
     "output_type": "execute_result"
    },
    {
     "data": {
      "image/png": "[encoded data removed]",
      "text/plain": [
       "<Figure size 1500x500 with 3 Axes>"
      ]
     },
     "metadata": {},
     "output_type": "display_data"
    }
   ],
   "source": [
    "import seaborn as sns\n",
    "sns.relplot(predictions[['window', 'model', 'size']], x='model', y='size', col='window')"
   ]
  }
 ],
 "metadata": {
  "kernelspec": {
   "display_name": "base",
   "language": "python",
   "name": "python3"
  },
  "language_info": {
   "codemirror_mode": {
    "name": "ipython",
    "version": 3
   },
   "file_extension": ".py",
   "mimetype": "text/x-python",
   "name": "python",
   "nbconvert_exporter": "python",
   "pygments_lexer": "ipython3",
   "version": "3.9.12"
  },
  "orig_nbformat": 4
 },
 "nbformat": 4,
 "nbformat_minor": 2
}
