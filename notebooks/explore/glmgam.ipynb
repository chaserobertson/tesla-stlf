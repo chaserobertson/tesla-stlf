{
 "cells": [
  {
   "cell_type": "code",
   "execution_count": 1,
   "metadata": {},
   "outputs": [],
   "source": [
    "import os\n",
    "from joblib import dump, load\n",
    "import numpy as np\n",
    "import pandas as pd\n",
    "import seaborn as sns\n",
    "import matplotlib as plt\n",
    "from tscv import GapRollForward\n",
    "from tqdm.notebook import tqdm"
   ]
  },
  {
   "cell_type": "code",
   "execution_count": 6,
   "metadata": {},
   "outputs": [
    {
     "data": {
      "text/plain": [
       "(74880, 23)"
      ]
     },
     "execution_count": 6,
     "metadata": {},
     "output_type": "execute_result"
    }
   ],
   "source": [
    "data = pd.read_csv('../data/intra_day/SA_preprocessed.csv')\n",
    "data['year'] = data['dt'].str[:4]\n",
    "fitdata = data[data['year'] == '2022']\n",
    "testdata = data[data['year'] == '2023']\n",
    "fitdata.shape, testdata.shape"
   ]
  },
  {
   "cell_type": "code",
   "execution_count": 3,
   "metadata": {},
   "outputs": [
    {
     "data": {
      "text/html": [
       "<table class=\"simpletable\">\n",
       "<caption>Generalized Linear Model Regression Results</caption>\n",
       "<tr>\n",
       "  <th>Dep. Variable:</th>        <td>Demand</td>      <th>  No. Observations:  </th>   <td> 17520</td>   \n",
       "</tr>\n",
       "<tr>\n",
       "  <th>Model:</th>                  <td>GLM</td>       <th>  Df Residuals:      </th>   <td> 17404</td>   \n",
       "</tr>\n",
       "<tr>\n",
       "  <th>Model Family:</th>        <td>Gaussian</td>     <th>  Df Model:          </th>   <td>   115</td>   \n",
       "</tr>\n",
       "<tr>\n",
       "  <th>Link Function:</th>       <td>Identity</td>     <th>  Scale:             </th>  <td>  42448.</td>  \n",
       "</tr>\n",
       "<tr>\n",
       "  <th>Method:</th>                <td>IRLS</td>       <th>  Log-Likelihood:    </th> <td>-1.1815e+05</td>\n",
       "</tr>\n",
       "<tr>\n",
       "  <th>Date:</th>            <td>Wed, 06 Sep 2023</td> <th>  Deviance:          </th> <td>7.3885e+08</td> \n",
       "</tr>\n",
       "<tr>\n",
       "  <th>Time:</th>                <td>14:01:55</td>     <th>  Pearson chi2:      </th>  <td>7.39e+08</td>  \n",
       "</tr>\n",
       "<tr>\n",
       "  <th>No. Iterations:</th>          <td>3</td>        <th>  Pseudo R-squ. (CS):</th>   <td>0.9128</td>   \n",
       "</tr>\n",
       "<tr>\n",
       "  <th>Covariance Type:</th>     <td>nonrobust</td>    <th>                     </th>      <td> </td>     \n",
       "</tr>\n",
       "</table>"
      ],
      "text/latex": [
       "\\begin{center}\n",
       "\\begin{tabular}{lclc}\n",
       "\\toprule\n",
       "\\textbf{Dep. Variable:}   &      Demand      & \\textbf{  No. Observations:  } &     17520    \\\\\n",
       "\\textbf{Model:}           &       GLM        & \\textbf{  Df Residuals:      } &     17404    \\\\\n",
       "\\textbf{Model Family:}    &     Gaussian     & \\textbf{  Df Model:          } &       115    \\\\\n",
       "\\textbf{Link Function:}   &     Identity     & \\textbf{  Scale:             } &     42448.   \\\\\n",
       "\\textbf{Method:}          &       IRLS       & \\textbf{  Log-Likelihood:    } & -1.1815e+05  \\\\\n",
       "\\textbf{Date:}            & Wed, 06 Sep 2023 & \\textbf{  Deviance:          } &  7.3885e+08  \\\\\n",
       "\\textbf{Time:}            &     14:01:55     & \\textbf{  Pearson chi2:      } &   7.39e+08   \\\\\n",
       "\\textbf{No. Iterations:}  &        3         & \\textbf{  Pseudo R-squ. (CS):} &    0.9128    \\\\\n",
       "\\textbf{Covariance Type:} &    nonrobust     & \\textbf{                     } &              \\\\\n",
       "\\bottomrule\n",
       "\\end{tabular}\n",
       "%\\caption{Generalized Linear Model Regression Results}\n",
       "\\end{center}"
      ],
      "text/plain": [
       "<class 'statsmodels.iolib.table.SimpleTable'>"
      ]
     },
     "execution_count": 3,
     "metadata": {},
     "output_type": "execute_result"
    }
   ],
   "source": [
    "import pandas as pd\n",
    "import numpy as np\n",
    "import statsmodels.api as sm\n",
    "from patsy import dmatrix\n",
    "\n",
    "# Create basis functions for the smooth terms\n",
    "knots_wtdtemp = np.linspace(min(fitdata['WtdTemp']), max(fitdata['WtdTemp']))\n",
    "knots_year = np.linspace(0, max(fitdata['Year']))\n",
    "\n",
    "def make_X(dataframe):\n",
    "    basis_dsttime = dmatrix(\"cc(DSTTime, df=13)\", {\"DSTTime\": dataframe['DSTTime']})\n",
    "    basis_wtdtemp = dmatrix(\"bs(WtdTemp, knots=knots_wtdtemp)\", {\"WtdTemp\": dataframe['WtdTemp']})\n",
    "    basis_year = dmatrix(\"bs(Year, knots=knots_year)\", {\"Year\": dataframe['Year']})\n",
    "    return np.column_stack((basis_dsttime, basis_wtdtemp, basis_year))\n",
    "\n",
    "# Fit the model\n",
    "model = sm.GLM(fitdata['Demand'], make_X(fitdata))\n",
    "result = model.fit()\n",
    "\n",
    "result.summary().tables[0]"
   ]
  },
  {
   "cell_type": "code",
   "execution_count": 4,
   "metadata": {},
   "outputs": [
    {
     "name": "stdout",
     "output_type": "stream",
     "text": [
      "gam train\n",
      "MAPE: 0.1504096627176814\n",
      "R^2: 0.7106383330855464\n",
      "MAE: 153.10242820069263\n",
      "RMSE: 205.35792582810714\n",
      "gam test\n",
      "MAPE: 0.27295909154558196\n",
      "R^2: 0.4604802762026262\n",
      "MAE: 249.84260618943233\n",
      "RMSE: 320.0655893082919\n"
     ]
    }
   ],
   "source": [
    "testdata.loc[84558, 'DSTTime'] = 0\n",
    "testdata.loc[testdata['WtdTemp'] <= testdata['WtdTemp'].min(), 'WtdTemp'] = 6.7\n",
    "testdata.loc[testdata['WtdTemp'] >= testdata['WtdTemp'].max(), 'WtdTemp'] = 38.3\n",
    "pred2022 = result.predict(make_X(fitdata))\n",
    "true2022 = fitdata['Demand']\n",
    "pred2023 = result.predict(make_X(testdata))\n",
    "true2023 = testdata['Demand']\n",
    "def rsq(t, p): return 1 - np.sum((t - p)**2) / np.sum((t - np.mean(t))**2)\n",
    "def rmse(true, pred): return np.sqrt(np.mean((true - pred)**2))\n",
    "def mape(true, pred): return np.mean(np.abs((true - pred) / true))\n",
    "def mae(true, pred): return np.mean(np.abs(true - pred))\n",
    "def allmetrics(t, p, title):\n",
    "    print(title)\n",
    "    print('MAPE:', mape(t, p))\n",
    "    print('R^2:', rsq(t, p))\n",
    "    print('MAE:', mae(t, p))\n",
    "    print('RMSE:', rmse(t, p))\n",
    "allmetrics(true2022, pred2022, 'gam train')\n",
    "allmetrics(true2023, pred2023, 'gam test')"
   ]
  }
 ],
 "metadata": {
  "kernelspec": {
   "display_name": "base",
   "language": "python",
   "name": "python3"
  },
  "language_info": {
   "codemirror_mode": {
    "name": "ipython",
    "version": 3
   },
   "file_extension": ".py",
   "mimetype": "text/x-python",
   "name": "python",
   "nbconvert_exporter": "python",
   "pygments_lexer": "ipython3",
   "version": "3.9.12"
  },
  "orig_nbformat": 4
 },
 "nbformat": 4,
 "nbformat_minor": 2
}
