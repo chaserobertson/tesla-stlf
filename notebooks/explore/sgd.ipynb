{
 "cells": [
  {
   "cell_type": "code",
   "execution_count": 13,
   "metadata": {},
   "outputs": [],
   "source": [
    "import numpy as np\n",
    "import pandas as pd\n",
    "import seaborn as sns\n",
    "import matplotlib.pyplot as plt\n",
    "from tscv import GapRollForward\n",
    "from tqdm.notebook import tqdm\n",
    "\n",
    "from sklearn.kernel_approximation import Nystroem\n",
    "from sklearn.linear_model import SGDRegressor\n",
    "from sklearn.pipeline import Pipeline\n",
    "from sklearn.preprocessing import StandardScaler\n",
    "from sklearn.impute import KNNImputer\n",
    "from sklearn.model_selection import cross_val_score\n",
    "\n",
    "DATA_FILEPATH = '../data/sa/merged.csv'\n",
    "OBS_PER_DAY = 24\n",
    "X_EXCLUDE = ['datetime', 'net_load', 'total_load']\n",
    "\n",
    "HOLIDAY_FILEPATH = '../data/australian-public-holidays-combined-2021-2024.csv'\n",
    "holiday_df = pd.read_csv(HOLIDAY_FILEPATH, dtype='str')\n",
    "holiday_df['Date'] = holiday_df['Date'].astype('datetime64[ns]')\n",
    "holidays = holiday_df.loc[holiday_df['Jurisdiction'] == 'sa', ['Date', 'Holiday Name']]\n",
    "\n",
    "obs = np.arange(1000) * OBS_PER_DAY\n",
    "TRAIN_BEGIN, TEST_BEGIN = '2021-01-01', '2023-01-01'\n",
    "TRAIN_MIN_SIZE = obs[366]\n",
    "TRAIN_MAX_SIZE = obs[366]\n",
    "TEST_MIN_SIZE = obs[7]\n",
    "TEST_MAX_SIZE = obs[7]\n",
    "ROLL_SIZE = obs[70]\n",
    "\n",
    "df = pd.read_csv(DATA_FILEPATH)\n",
    "df['datetime'] = df['datetime'].astype('datetime64')\n",
    "dt = df['datetime'].dt\n",
    "df['year'] = dt.year\n",
    "df['month'] = dt.month\n",
    "df['day'] = dt.day\n",
    "df['hour'] = dt.hour\n",
    "df['minute'] = dt.minute\n",
    "df['dow'] = dt.day_of_week\n",
    "df['week'] = dt.isocalendar().week\n",
    "df['holiday'] = dt.date.isin(holidays['Date'].dt.date).astype('int')\n",
    "\n",
    "X_cols = np.setdiff1d(df.columns.values, X_EXCLUDE)\n",
    "X_ind = sorted(df.columns.get_indexer_for(X_cols))\n",
    "y_ind = df.columns.get_loc('net_load')\n",
    "\n",
    "train_ind = df['datetime'].between(TRAIN_BEGIN, TEST_BEGIN)\n",
    "test_ind = df['datetime'] > TEST_BEGIN\n",
    "X_train, y_train = df.loc[train_ind, X_cols], df.loc[train_ind, 'net_load']\n",
    "X_test, y_test = df.loc[test_ind, X_cols], df.loc[test_ind, 'net_load']"
   ]
  },
  {
   "cell_type": "code",
   "execution_count": 14,
   "metadata": {},
   "outputs": [
    {
     "name": "stdout",
     "output_type": "stream",
     "text": [
      "Fitting 6 folds for each of 26 candidates, totalling 156 fits\n"
     ]
    },
    {
     "name": "stdout",
     "output_type": "stream",
     "text": [
      "[CV 1/6] END kernel__gamma=1e-09, kernel__n_components=100;, score=-0.319 total time=   0.3s\n",
      "[CV 2/6] END kernel__gamma=1e-09, kernel__n_components=100;, score=-0.056 total time=   0.2s\n",
      "[CV 3/6] END kernel__gamma=1e-09, kernel__n_components=100;, score=-0.061 total time=   0.4s\n",
      "[CV 4/6] END kernel__gamma=1e-09, kernel__n_components=100;, score=-0.913 total time=   1.2s\n",
      "[CV 5/6] END kernel__gamma=1e-09, kernel__n_components=100;, score=-0.149 total time=   1.0s\n",
      "[CV 1/6] END kernel__gamma=1e-08, kernel__n_components=100;, score=-0.313 total time=   0.3s\n",
      "[CV 2/6] END kernel__gamma=1e-08, kernel__n_components=100;, score=-0.047 total time=   0.3s\n",
      "[CV 6/6] END kernel__gamma=1e-09, kernel__n_components=100;, score=-0.175 total time=   1.2s\n",
      "[CV 3/6] END kernel__gamma=1e-08, kernel__n_components=100;, score=-0.074 total time=   0.4s\n",
      "[CV 4/6] END kernel__gamma=1e-08, kernel__n_components=100;, score=-0.880 total time=   1.1s\n",
      "[CV 5/6] END kernel__gamma=1e-08, kernel__n_components=100;, score=-0.136 total time=   1.1s\n",
      "[CV 6/6] END kernel__gamma=1e-08, kernel__n_components=100;, score=-0.185 total time=   1.5s\n",
      "[CV 2/6] END kernel__gamma=1e-09, kernel__n_components=1000;, score=-0.079 total time=   5.6s\n",
      "[CV 1/6] END kernel__gamma=1e-08, kernel__n_components=1000;, score=-0.310 total time=   5.6s\n",
      "[CV 1/6] END kernel__gamma=1e-09, kernel__n_components=1000;, score=-0.301 total time=   6.0s\n",
      "[CV 3/6] END kernel__gamma=1e-09, kernel__n_components=1000;, score=-0.083 total time=   6.1s\n",
      "[CV 4/6] END kernel__gamma=1e-09, kernel__n_components=1000;, score=-0.851 total time=   7.1s\n",
      "[CV 2/6] END kernel__gamma=1e-08, kernel__n_components=1000;, score=-0.077 total time=   5.8s\n",
      "[CV 5/6] END kernel__gamma=1e-09, kernel__n_components=1000;, score=-0.148 total time=   7.4s\n",
      "[CV 6/6] END kernel__gamma=1e-09, kernel__n_components=1000;, score=-0.205 total time=   7.5s\n",
      "[CV 1/6] END kernel__gamma=1e-07, kernel__n_components=100;, score=-0.293 total time=   0.4s\n",
      "[CV 2/6] END kernel__gamma=1e-07, kernel__n_components=100;, score=-0.068 total time=   0.4s\n",
      "[CV 3/6] END kernel__gamma=1e-07, kernel__n_components=100;, score=-0.060 total time=   0.6s\n",
      "[CV 4/6] END kernel__gamma=1e-07, kernel__n_components=100;, score=-0.867 total time=   1.5s\n",
      "[CV 5/6] END kernel__gamma=1e-07, kernel__n_components=100;, score=-0.149 total time=   1.6s\n",
      "[CV 6/6] END kernel__gamma=1e-07, kernel__n_components=100;, score=-0.165 total time=   1.5s\n",
      "[CV 3/6] END kernel__gamma=1e-08, kernel__n_components=1000;, score=-0.056 total time=   5.0s\n",
      "[CV 4/6] END kernel__gamma=1e-08, kernel__n_components=1000;, score=-0.887 total time=   6.5s\n",
      "[CV 5/6] END kernel__gamma=1e-08, kernel__n_components=1000;, score=-0.147 total time=   6.8s\n",
      "[CV 6/6] END kernel__gamma=1e-08, kernel__n_components=1000;, score=-0.150 total time=   7.1s\n",
      "[CV 1/6] END kernel__gamma=1e-06, kernel__n_components=100;, score=-0.275 total time=   0.5s\n",
      "[CV 2/6] END kernel__gamma=1e-06, kernel__n_components=100;, score=-0.062 total time=   0.4s\n",
      "[CV 3/6] END kernel__gamma=1e-06, kernel__n_components=100;, score=-0.075 total time=   0.4s\n",
      "[CV 1/6] END kernel__gamma=1e-07, kernel__n_components=1000;, score=-0.350 total time=   5.8s\n",
      "[CV 2/6] END kernel__gamma=1e-07, kernel__n_components=1000;, score=-0.049 total time=   5.7s\n",
      "[CV 4/6] END kernel__gamma=1e-06, kernel__n_components=100;, score=-0.926 total time=   1.4s\n",
      "[CV 3/6] END kernel__gamma=1e-07, kernel__n_components=1000;, score=-0.059 total time=   6.1s\n",
      "[CV 5/6] END kernel__gamma=1e-06, kernel__n_components=100;, score=-0.152 total time=   1.5s\n",
      "[CV 6/6] END kernel__gamma=1e-06, kernel__n_components=100;, score=-0.204 total time=   1.6s\n",
      "[CV 4/6] END kernel__gamma=1e-07, kernel__n_components=1000;, score=-0.823 total time=   7.4s\n",
      "[CV 5/6] END kernel__gamma=1e-07, kernel__n_components=1000;, score=-0.135 total time=   7.3s\n",
      "[CV 6/6] END kernel__gamma=1e-07, kernel__n_components=1000;, score=-0.182 total time=   7.1s\n",
      "[CV 3/6] END kernel__gamma=1e-06, kernel__n_components=1000;, score=-0.071 total time=   5.6s\n",
      "[CV 1/6] END kernel__gamma=1e-06, kernel__n_components=1000;, score=-0.332 total time=   6.2s\n",
      "[CV 1/6] END kernel__gamma=1e-05, kernel__n_components=100;, score=-0.271 total time=   3.3s\n",
      "[CV 2/6] END kernel__gamma=1e-06, kernel__n_components=1000;, score=-0.060 total time=   6.4s\n",
      "[CV 4/6] END kernel__gamma=1e-06, kernel__n_components=1000;, score=-0.924 total time=   6.8s\n",
      "[CV 5/6] END kernel__gamma=1e-06, kernel__n_components=1000;, score=-0.127 total time=   6.8s\n",
      "[CV 6/6] END kernel__gamma=1e-06, kernel__n_components=1000;, score=-0.190 total time=   6.6s\n",
      "[CV 4/6] END kernel__gamma=1e-05, kernel__n_components=100;, score=-0.802 total time=   4.0s\n",
      "[CV 6/6] END kernel__gamma=1e-05, kernel__n_components=100;, score=-0.104 total time=   4.2s\n",
      "[CV 3/6] END kernel__gamma=1e-05, kernel__n_components=100;, score=-0.017 total time=   5.4s\n",
      "[CV 2/6] END kernel__gamma=1e-05, kernel__n_components=100;, score=-0.004 total time=   7.5s\n",
      "[CV 5/6] END kernel__gamma=1e-05, kernel__n_components=100;, score=-0.085 total time=   5.8s\n"
     ]
    },
    {
     "name": "stderr",
     "output_type": "stream",
     "text": [
      "/Users/chase/miniconda3/lib/python3.9/site-packages/sklearn/linear_model/_stochastic_gradient.py:1548: ConvergenceWarning: Maximum number of iteration reached before convergence. Consider increasing max_iter to improve the fit.\n",
      "  warnings.warn(\n",
      "/Users/chase/miniconda3/lib/python3.9/site-packages/sklearn/linear_model/_stochastic_gradient.py:1548: ConvergenceWarning: Maximum number of iteration reached before convergence. Consider increasing max_iter to improve the fit.\n",
      "  warnings.warn(\n"
     ]
    },
    {
     "name": "stdout",
     "output_type": "stream",
     "text": [
      "[CV 1/6] END kernel__gamma=0.0001, kernel__n_components=100;, score=0.372 total time=  10.1s\n",
      "[CV 2/6] END kernel__gamma=0.0001, kernel__n_components=100;, score=0.348 total time=  10.0s\n"
     ]
    },
    {
     "name": "stderr",
     "output_type": "stream",
     "text": [
      "/Users/chase/miniconda3/lib/python3.9/site-packages/sklearn/linear_model/_stochastic_gradient.py:1548: ConvergenceWarning: Maximum number of iteration reached before convergence. Consider increasing max_iter to improve the fit.\n",
      "  warnings.warn(\n"
     ]
    },
    {
     "name": "stdout",
     "output_type": "stream",
     "text": [
      "[CV 3/6] END kernel__gamma=0.0001, kernel__n_components=100;, score=0.416 total time=   8.9s\n"
     ]
    },
    {
     "name": "stderr",
     "output_type": "stream",
     "text": [
      "/Users/chase/miniconda3/lib/python3.9/site-packages/sklearn/linear_model/_stochastic_gradient.py:1548: ConvergenceWarning: Maximum number of iteration reached before convergence. Consider increasing max_iter to improve the fit.\n",
      "  warnings.warn(\n"
     ]
    },
    {
     "name": "stdout",
     "output_type": "stream",
     "text": [
      "[CV 4/6] END kernel__gamma=0.0001, kernel__n_components=100;, score=-0.138 total time=   9.6s\n",
      "[CV 6/6] END kernel__gamma=1e-05, kernel__n_components=1000;, score=-0.108 total time=  21.4s\n",
      "[CV 3/6] END kernel__gamma=1e-05, kernel__n_components=1000;, score=-0.003 total time=  27.9s\n",
      "[CV 4/6] END kernel__gamma=1e-05, kernel__n_components=1000;, score=-0.770 total time=  26.5s\n",
      "[CV 2/6] END kernel__gamma=1e-05, kernel__n_components=1000;, score=0.001 total time=  33.6s\n"
     ]
    },
    {
     "name": "stderr",
     "output_type": "stream",
     "text": [
      "/Users/chase/miniconda3/lib/python3.9/site-packages/sklearn/linear_model/_stochastic_gradient.py:1548: ConvergenceWarning: Maximum number of iteration reached before convergence. Consider increasing max_iter to improve the fit.\n",
      "  warnings.warn(\n"
     ]
    },
    {
     "name": "stdout",
     "output_type": "stream",
     "text": [
      "[CV 5/6] END kernel__gamma=0.0001, kernel__n_components=100;, score=0.377 total time=  10.6s\n"
     ]
    },
    {
     "name": "stderr",
     "output_type": "stream",
     "text": [
      "/Users/chase/miniconda3/lib/python3.9/site-packages/sklearn/linear_model/_stochastic_gradient.py:1548: ConvergenceWarning: Maximum number of iteration reached before convergence. Consider increasing max_iter to improve the fit.\n",
      "  warnings.warn(\n"
     ]
    },
    {
     "name": "stdout",
     "output_type": "stream",
     "text": [
      "[CV 6/6] END kernel__gamma=0.0001, kernel__n_components=100;, score=0.600 total time=  10.7s\n",
      "[CV 5/6] END kernel__gamma=1e-05, kernel__n_components=1000;, score=-0.065 total time=  36.9s\n",
      "[CV 1/6] END kernel__gamma=0.001, kernel__n_components=100;, score=0.632 total time=   4.9s\n",
      "[CV 2/6] END kernel__gamma=0.001, kernel__n_components=100;, score=0.605 total time=   5.1s\n",
      "[CV 3/6] END kernel__gamma=0.001, kernel__n_components=100;, score=0.624 total time=   8.6s\n"
     ]
    },
    {
     "name": "stderr",
     "output_type": "stream",
     "text": [
      "/Users/chase/miniconda3/lib/python3.9/site-packages/sklearn/linear_model/_stochastic_gradient.py:1548: ConvergenceWarning: Maximum number of iteration reached before convergence. Consider increasing max_iter to improve the fit.\n",
      "  warnings.warn(\n"
     ]
    },
    {
     "name": "stdout",
     "output_type": "stream",
     "text": [
      "[CV 1/6] END kernel__gamma=1e-05, kernel__n_components=1000;, score=-0.189 total time=  59.3s\n",
      "[CV 4/6] END kernel__gamma=0.001, kernel__n_components=100;, score=0.241 total time=   5.9s\n",
      "[CV 5/6] END kernel__gamma=0.001, kernel__n_components=100;, score=0.486 total time=   5.7s\n",
      "[CV 6/6] END kernel__gamma=0.001, kernel__n_components=100;, score=0.758 total time=   4.9s\n"
     ]
    },
    {
     "name": "stderr",
     "output_type": "stream",
     "text": [
      "/Users/chase/miniconda3/lib/python3.9/site-packages/sklearn/linear_model/_stochastic_gradient.py:1548: ConvergenceWarning: Maximum number of iteration reached before convergence. Consider increasing max_iter to improve the fit.\n",
      "  warnings.warn(\n"
     ]
    },
    {
     "name": "stdout",
     "output_type": "stream",
     "text": [
      "[CV 1/6] END kernel__gamma=0.0001, kernel__n_components=1000;, score=0.002 total time=  56.6s\n"
     ]
    },
    {
     "name": "stderr",
     "output_type": "stream",
     "text": [
      "/Users/chase/miniconda3/lib/python3.9/site-packages/sklearn/linear_model/_stochastic_gradient.py:1548: ConvergenceWarning: Maximum number of iteration reached before convergence. Consider increasing max_iter to improve the fit.\n",
      "  warnings.warn(\n"
     ]
    },
    {
     "name": "stdout",
     "output_type": "stream",
     "text": [
      "[CV 2/6] END kernel__gamma=0.0001, kernel__n_components=1000;, score=0.346 total time=  56.7s\n"
     ]
    },
    {
     "name": "stderr",
     "output_type": "stream",
     "text": [
      "/Users/chase/miniconda3/lib/python3.9/site-packages/sklearn/linear_model/_stochastic_gradient.py:1548: ConvergenceWarning: Maximum number of iteration reached before convergence. Consider increasing max_iter to improve the fit.\n",
      "  warnings.warn(\n"
     ]
    },
    {
     "name": "stdout",
     "output_type": "stream",
     "text": [
      "[CV 3/6] END kernel__gamma=0.0001, kernel__n_components=1000;, score=0.416 total time=  56.7s\n"
     ]
    },
    {
     "name": "stderr",
     "output_type": "stream",
     "text": [
      "/Users/chase/miniconda3/lib/python3.9/site-packages/sklearn/linear_model/_stochastic_gradient.py:1548: ConvergenceWarning: Maximum number of iteration reached before convergence. Consider increasing max_iter to improve the fit.\n",
      "  warnings.warn(\n"
     ]
    },
    {
     "name": "stdout",
     "output_type": "stream",
     "text": [
      "[CV 4/6] END kernel__gamma=0.0001, kernel__n_components=1000;, score=-0.139 total time=  57.3s\n"
     ]
    },
    {
     "name": "stderr",
     "output_type": "stream",
     "text": [
      "/Users/chase/miniconda3/lib/python3.9/site-packages/sklearn/linear_model/_stochastic_gradient.py:1548: ConvergenceWarning: Maximum number of iteration reached before convergence. Consider increasing max_iter to improve the fit.\n",
      "  warnings.warn(\n"
     ]
    },
    {
     "name": "stdout",
     "output_type": "stream",
     "text": [
      "[CV 5/6] END kernel__gamma=0.0001, kernel__n_components=1000;, score=0.374 total time=  57.4s\n"
     ]
    },
    {
     "name": "stderr",
     "output_type": "stream",
     "text": [
      "/Users/chase/miniconda3/lib/python3.9/site-packages/sklearn/linear_model/_stochastic_gradient.py:1548: ConvergenceWarning: Maximum number of iteration reached before convergence. Consider increasing max_iter to improve the fit.\n",
      "  warnings.warn(\n"
     ]
    },
    {
     "name": "stdout",
     "output_type": "stream",
     "text": [
      "[CV 6/6] END kernel__gamma=0.0001, kernel__n_components=1000;, score=0.601 total time=  57.3s\n",
      "[CV 1/6] END kernel__gamma=0.001, kernel__n_components=1000;, score=-0.651 total time=  32.3s\n"
     ]
    },
    {
     "name": "stderr",
     "output_type": "stream",
     "text": [
      "/Users/chase/miniconda3/lib/python3.9/site-packages/sklearn/linear_model/_stochastic_gradient.py:1548: ConvergenceWarning: Maximum number of iteration reached before convergence. Consider increasing max_iter to improve the fit.\n",
      "  warnings.warn(\n"
     ]
    },
    {
     "name": "stdout",
     "output_type": "stream",
     "text": [
      "[CV 1/6] END kernel__gamma=0.01, kernel__n_components=100;, score=-1.561 total time=   8.6s\n",
      "[CV 2/6] END kernel__gamma=0.001, kernel__n_components=1000;, score=0.606 total time=  31.1s\n",
      "[CV 2/6] END kernel__gamma=0.01, kernel__n_components=100;, score=0.745 total time=   8.6s\n"
     ]
    },
    {
     "name": "stderr",
     "output_type": "stream",
     "text": [
      "/Users/chase/miniconda3/lib/python3.9/site-packages/sklearn/linear_model/_stochastic_gradient.py:1548: ConvergenceWarning: Maximum number of iteration reached before convergence. Consider increasing max_iter to improve the fit.\n",
      "  warnings.warn(\n",
      "/Users/chase/miniconda3/lib/python3.9/site-packages/sklearn/linear_model/_stochastic_gradient.py:1548: ConvergenceWarning: Maximum number of iteration reached before convergence. Consider increasing max_iter to improve the fit.\n",
      "  warnings.warn(\n"
     ]
    },
    {
     "name": "stdout",
     "output_type": "stream",
     "text": [
      "[CV 3/6] END kernel__gamma=0.01, kernel__n_components=100;, score=0.625 total time=   8.2s\n",
      "[CV 4/6] END kernel__gamma=0.01, kernel__n_components=100;, score=0.532 total time=   7.0s\n",
      "[CV 5/6] END kernel__gamma=0.01, kernel__n_components=100;, score=0.453 total time=   8.3s\n"
     ]
    },
    {
     "name": "stderr",
     "output_type": "stream",
     "text": [
      "/Users/chase/miniconda3/lib/python3.9/site-packages/sklearn/linear_model/_stochastic_gradient.py:1548: ConvergenceWarning: Maximum number of iteration reached before convergence. Consider increasing max_iter to improve the fit.\n",
      "  warnings.warn(\n"
     ]
    },
    {
     "name": "stdout",
     "output_type": "stream",
     "text": [
      "[CV 6/6] END kernel__gamma=0.01, kernel__n_components=100;, score=0.739 total time=   9.2s\n",
      "[CV 5/6] END kernel__gamma=0.001, kernel__n_components=1000;, score=0.505 total time=  27.2s\n",
      "[CV 4/6] END kernel__gamma=0.001, kernel__n_components=1000;, score=0.247 total time=  31.8s\n",
      "[CV 6/6] END kernel__gamma=0.001, kernel__n_components=1000;, score=0.766 total time=  37.1s\n",
      "[CV 1/6] END kernel__gamma=0.1, kernel__n_components=100;, score=-0.361 total time=   7.2s\n"
     ]
    },
    {
     "name": "stderr",
     "output_type": "stream",
     "text": [
      "/Users/chase/miniconda3/lib/python3.9/site-packages/sklearn/linear_model/_stochastic_gradient.py:1548: ConvergenceWarning: Maximum number of iteration reached before convergence. Consider increasing max_iter to improve the fit.\n",
      "  warnings.warn(\n"
     ]
    },
    {
     "name": "stdout",
     "output_type": "stream",
     "text": [
      "[CV 3/6] END kernel__gamma=0.001, kernel__n_components=1000;, score=0.624 total time=  55.1s\n",
      "[CV 2/6] END kernel__gamma=0.1, kernel__n_components=100;, score=0.547 total time=   6.0s\n",
      "[CV 3/6] END kernel__gamma=0.1, kernel__n_components=100;, score=0.639 total time=   8.2s\n",
      "[CV 4/6] END kernel__gamma=0.1, kernel__n_components=100;, score=0.219 total time=   6.1s\n",
      "[CV 6/6] END kernel__gamma=0.1, kernel__n_components=100;, score=0.325 total time=   6.8s\n",
      "[CV 5/6] END kernel__gamma=0.1, kernel__n_components=100;, score=0.663 total time=   9.0s\n"
     ]
    },
    {
     "name": "stderr",
     "output_type": "stream",
     "text": [
      "/Users/chase/miniconda3/lib/python3.9/site-packages/sklearn/linear_model/_stochastic_gradient.py:1548: ConvergenceWarning: Maximum number of iteration reached before convergence. Consider increasing max_iter to improve the fit.\n",
      "  warnings.warn(\n"
     ]
    },
    {
     "name": "stdout",
     "output_type": "stream",
     "text": [
      "[CV 1/6] END kernel__gamma=0.01, kernel__n_components=1000;, score=-1.459 total time=  51.5s\n",
      "[CV 3/6] END kernel__gamma=0.01, kernel__n_components=1000;, score=0.631 total time=  51.9s\n"
     ]
    },
    {
     "name": "stderr",
     "output_type": "stream",
     "text": [
      "/Users/chase/miniconda3/lib/python3.9/site-packages/sklearn/linear_model/_stochastic_gradient.py:1548: ConvergenceWarning: Maximum number of iteration reached before convergence. Consider increasing max_iter to improve the fit.\n",
      "  warnings.warn(\n"
     ]
    },
    {
     "name": "stdout",
     "output_type": "stream",
     "text": [
      "[CV 2/6] END kernel__gamma=0.01, kernel__n_components=1000;, score=0.771 total time=  54.7s\n"
     ]
    },
    {
     "name": "stderr",
     "output_type": "stream",
     "text": [
      "/Users/chase/miniconda3/lib/python3.9/site-packages/sklearn/linear_model/_stochastic_gradient.py:1548: ConvergenceWarning: Maximum number of iteration reached before convergence. Consider increasing max_iter to improve the fit.\n",
      "  warnings.warn(\n"
     ]
    },
    {
     "name": "stdout",
     "output_type": "stream",
     "text": [
      "[CV 4/6] END kernel__gamma=0.01, kernel__n_components=1000;, score=0.563 total time=  55.5s\n"
     ]
    },
    {
     "name": "stderr",
     "output_type": "stream",
     "text": [
      "/Users/chase/miniconda3/lib/python3.9/site-packages/sklearn/linear_model/_stochastic_gradient.py:1548: ConvergenceWarning: Maximum number of iteration reached before convergence. Consider increasing max_iter to improve the fit.\n",
      "  warnings.warn(\n"
     ]
    },
    {
     "name": "stdout",
     "output_type": "stream",
     "text": [
      "[CV 5/6] END kernel__gamma=0.01, kernel__n_components=1000;, score=0.472 total time=  55.4s\n"
     ]
    },
    {
     "name": "stderr",
     "output_type": "stream",
     "text": [
      "/Users/chase/miniconda3/lib/python3.9/site-packages/sklearn/linear_model/_stochastic_gradient.py:1548: ConvergenceWarning: Maximum number of iteration reached before convergence. Consider increasing max_iter to improve the fit.\n",
      "  warnings.warn(\n"
     ]
    },
    {
     "name": "stdout",
     "output_type": "stream",
     "text": [
      "[CV 6/6] END kernel__gamma=0.01, kernel__n_components=1000;, score=0.725 total time=  55.2s\n",
      "[CV 2/6] END kernel__gamma=1.0, kernel__n_components=100;, score=-0.042 total time=   2.4s\n"
     ]
    },
    {
     "name": "stderr",
     "output_type": "stream",
     "text": [
      "/Users/chase/miniconda3/lib/python3.9/site-packages/sklearn/linear_model/_stochastic_gradient.py:1548: ConvergenceWarning: Maximum number of iteration reached before convergence. Consider increasing max_iter to improve the fit.\n",
      "  warnings.warn(\n"
     ]
    },
    {
     "name": "stdout",
     "output_type": "stream",
     "text": [
      "[CV 1/6] END kernel__gamma=1.0, kernel__n_components=100;, score=-0.330 total time=   8.8s\n",
      "[CV 4/6] END kernel__gamma=1.0, kernel__n_components=100;, score=-0.844 total time=   3.7s\n",
      "[CV 3/6] END kernel__gamma=1.0, kernel__n_components=100;, score=-0.068 total time=   6.8s\n",
      "[CV 6/6] END kernel__gamma=1.0, kernel__n_components=100;, score=-0.169 total time=   5.8s\n",
      "[CV 5/6] END kernel__gamma=1.0, kernel__n_components=100;, score=-0.128 total time=   8.1s\n"
     ]
    },
    {
     "name": "stderr",
     "output_type": "stream",
     "text": [
      "/Users/chase/miniconda3/lib/python3.9/site-packages/sklearn/linear_model/_stochastic_gradient.py:1548: ConvergenceWarning: Maximum number of iteration reached before convergence. Consider increasing max_iter to improve the fit.\n",
      "  warnings.warn(\n",
      "/Users/chase/miniconda3/lib/python3.9/site-packages/sklearn/linear_model/_stochastic_gradient.py:1548: ConvergenceWarning: Maximum number of iteration reached before convergence. Consider increasing max_iter to improve the fit.\n",
      "  warnings.warn(\n"
     ]
    },
    {
     "name": "stdout",
     "output_type": "stream",
     "text": [
      "[CV 2/6] END kernel__gamma=0.1, kernel__n_components=1000;, score=0.810 total time=  54.7s\n",
      "[CV 1/6] END kernel__gamma=0.1, kernel__n_components=1000;, score=-0.490 total time=  54.9s\n"
     ]
    },
    {
     "name": "stderr",
     "output_type": "stream",
     "text": [
      "/Users/chase/miniconda3/lib/python3.9/site-packages/sklearn/linear_model/_stochastic_gradient.py:1548: ConvergenceWarning: Maximum number of iteration reached before convergence. Consider increasing max_iter to improve the fit.\n",
      "  warnings.warn(\n"
     ]
    },
    {
     "name": "stdout",
     "output_type": "stream",
     "text": [
      "[CV 3/6] END kernel__gamma=0.1, kernel__n_components=1000;, score=0.751 total time=  54.7s\n"
     ]
    },
    {
     "name": "stderr",
     "output_type": "stream",
     "text": [
      "/Users/chase/miniconda3/lib/python3.9/site-packages/sklearn/linear_model/_stochastic_gradient.py:1548: ConvergenceWarning: Maximum number of iteration reached before convergence. Consider increasing max_iter to improve the fit.\n",
      "  warnings.warn(\n",
      "/Users/chase/miniconda3/lib/python3.9/site-packages/sklearn/linear_model/_stochastic_gradient.py:1548: ConvergenceWarning: Maximum number of iteration reached before convergence. Consider increasing max_iter to improve the fit.\n",
      "  warnings.warn(\n"
     ]
    },
    {
     "name": "stdout",
     "output_type": "stream",
     "text": [
      "[CV 5/6] END kernel__gamma=0.1, kernel__n_components=1000;, score=0.821 total time=  55.2s\n",
      "[CV 4/6] END kernel__gamma=0.1, kernel__n_components=1000;, score=0.472 total time=  56.0s\n",
      "[CV 1/6] END kernel__gamma=10.0, kernel__n_components=100;, score=-0.325 total time=   0.3s\n",
      "[CV 2/6] END kernel__gamma=10.0, kernel__n_components=100;, score=-0.063 total time=   0.3s\n",
      "[CV 3/6] END kernel__gamma=10.0, kernel__n_components=100;, score=-0.080 total time=   0.3s\n",
      "[CV 4/6] END kernel__gamma=10.0, kernel__n_components=100;, score=-0.830 total time=   0.9s\n",
      "[CV 5/6] END kernel__gamma=10.0, kernel__n_components=100;, score=-0.154 total time=   1.0s\n"
     ]
    },
    {
     "name": "stderr",
     "output_type": "stream",
     "text": [
      "/Users/chase/miniconda3/lib/python3.9/site-packages/sklearn/linear_model/_stochastic_gradient.py:1548: ConvergenceWarning: Maximum number of iteration reached before convergence. Consider increasing max_iter to improve the fit.\n",
      "  warnings.warn(\n"
     ]
    },
    {
     "name": "stdout",
     "output_type": "stream",
     "text": [
      "[CV 6/6] END kernel__gamma=0.1, kernel__n_components=1000;, score=0.530 total time=  55.2s\n",
      "[CV 6/6] END kernel__gamma=10.0, kernel__n_components=100;, score=-0.196 total time=   1.2s\n",
      "[CV 1/6] END kernel__gamma=10.0, kernel__n_components=1000;, score=-0.344 total time=   8.5s\n",
      "[CV 2/6] END kernel__gamma=10.0, kernel__n_components=1000;, score=-0.057 total time=   9.7s\n",
      "[CV 3/6] END kernel__gamma=10.0, kernel__n_components=1000;, score=-0.075 total time=   6.6s\n"
     ]
    },
    {
     "name": "stderr",
     "output_type": "stream",
     "text": [
      "/Users/chase/miniconda3/lib/python3.9/site-packages/sklearn/linear_model/_stochastic_gradient.py:1548: ConvergenceWarning: Maximum number of iteration reached before convergence. Consider increasing max_iter to improve the fit.\n",
      "  warnings.warn(\n"
     ]
    },
    {
     "name": "stdout",
     "output_type": "stream",
     "text": [
      "[CV 1/6] END kernel__gamma=1.0, kernel__n_components=1000;, score=-0.273 total time=  55.8s\n"
     ]
    },
    {
     "name": "stderr",
     "output_type": "stream",
     "text": [
      "/Users/chase/miniconda3/lib/python3.9/site-packages/sklearn/linear_model/_stochastic_gradient.py:1548: ConvergenceWarning: Maximum number of iteration reached before convergence. Consider increasing max_iter to improve the fit.\n",
      "  warnings.warn(\n"
     ]
    },
    {
     "name": "stdout",
     "output_type": "stream",
     "text": [
      "[CV 2/6] END kernel__gamma=1.0, kernel__n_components=1000;, score=0.059 total time=  55.2s\n",
      "[CV 1/6] END kernel__gamma=100.0, kernel__n_components=100;, score=-0.333 total time=   1.0s\n",
      "[CV 2/6] END kernel__gamma=100.0, kernel__n_components=100;, score=-0.054 total time=   0.8s\n",
      "[CV 3/6] END kernel__gamma=100.0, kernel__n_components=100;, score=-0.068 total time=   0.6s\n",
      "[CV 4/6] END kernel__gamma=100.0, kernel__n_components=100;, score=-0.878 total time=   1.2s\n",
      "[CV 5/6] END kernel__gamma=100.0, kernel__n_components=100;, score=-0.140 total time=   1.1s\n",
      "[CV 6/6] END kernel__gamma=100.0, kernel__n_components=100;, score=-0.186 total time=   1.2s\n"
     ]
    },
    {
     "name": "stderr",
     "output_type": "stream",
     "text": [
      "/Users/chase/miniconda3/lib/python3.9/site-packages/sklearn/linear_model/_stochastic_gradient.py:1548: ConvergenceWarning: Maximum number of iteration reached before convergence. Consider increasing max_iter to improve the fit.\n",
      "  warnings.warn(\n"
     ]
    },
    {
     "name": "stdout",
     "output_type": "stream",
     "text": [
      "[CV 3/6] END kernel__gamma=1.0, kernel__n_components=1000;, score=0.008 total time=  55.1s\n"
     ]
    },
    {
     "name": "stderr",
     "output_type": "stream",
     "text": [
      "/Users/chase/miniconda3/lib/python3.9/site-packages/sklearn/linear_model/_stochastic_gradient.py:1548: ConvergenceWarning: Maximum number of iteration reached before convergence. Consider increasing max_iter to improve the fit.\n",
      "  warnings.warn(\n"
     ]
    },
    {
     "name": "stdout",
     "output_type": "stream",
     "text": [
      "[CV 4/6] END kernel__gamma=1.0, kernel__n_components=1000;, score=-0.802 total time=  55.7s\n",
      "[CV 1/6] END kernel__gamma=100.0, kernel__n_components=1000;, score=-0.349 total time=  14.9s\n",
      "[CV 5/6] END kernel__gamma=10.0, kernel__n_components=1000;, score=-0.152 total time=  29.5s\n",
      "[CV 4/6] END kernel__gamma=10.0, kernel__n_components=1000;, score=-0.851 total time=  35.2s\n"
     ]
    },
    {
     "name": "stderr",
     "output_type": "stream",
     "text": [
      "/Users/chase/miniconda3/lib/python3.9/site-packages/sklearn/linear_model/_stochastic_gradient.py:1548: ConvergenceWarning: Maximum number of iteration reached before convergence. Consider increasing max_iter to improve the fit.\n",
      "  warnings.warn(\n"
     ]
    },
    {
     "name": "stdout",
     "output_type": "stream",
     "text": [
      "[CV 5/6] END kernel__gamma=1.0, kernel__n_components=1000;, score=-0.012 total time=  55.5s\n",
      "[CV 1/6] END kernel__gamma=1000.0, kernel__n_components=100;, score=-0.320 total time=   0.2s\n",
      "[CV 2/6] END kernel__gamma=1000.0, kernel__n_components=100;, score=-0.058 total time=   0.3s\n",
      "[CV 3/6] END kernel__gamma=1000.0, kernel__n_components=100;, score=-0.058 total time=   0.3s\n",
      "[CV 4/6] END kernel__gamma=1000.0, kernel__n_components=100;, score=-0.824 total time=   0.8s\n",
      "[CV 5/6] END kernel__gamma=1000.0, kernel__n_components=100;, score=-0.135 total time=   1.1s\n",
      "[CV 6/6] END kernel__gamma=1000.0, kernel__n_components=100;, score=-0.198 total time=   1.1s\n"
     ]
    },
    {
     "name": "stderr",
     "output_type": "stream",
     "text": [
      "/Users/chase/miniconda3/lib/python3.9/site-packages/sklearn/linear_model/_stochastic_gradient.py:1548: ConvergenceWarning: Maximum number of iteration reached before convergence. Consider increasing max_iter to improve the fit.\n",
      "  warnings.warn(\n"
     ]
    },
    {
     "name": "stdout",
     "output_type": "stream",
     "text": [
      "[CV 6/6] END kernel__gamma=1.0, kernel__n_components=1000;, score=-0.009 total time=  55.2s\n",
      "[CV 2/6] END kernel__gamma=1000.0, kernel__n_components=1000;, score=-0.066 total time=   5.8s\n",
      "[CV 2/6] END kernel__gamma=100.0, kernel__n_components=1000;, score=-0.064 total time=  14.9s\n",
      "[CV 6/6] END kernel__gamma=10.0, kernel__n_components=1000;, score=-0.178 total time=  35.9s\n",
      "[CV 5/6] END kernel__gamma=100.0, kernel__n_components=1000;, score=-0.152 total time=  18.3s\n",
      "[CV 4/6] END kernel__gamma=1000.0, kernel__n_components=1000;, score=-0.836 total time=  10.7s\n",
      "[CV 6/6] END kernel__gamma=100.0, kernel__n_components=1000;, score=-0.190 total time=  24.2s\n",
      "[CV 6/6] END kernel__gamma=1000.0, kernel__n_components=1000;, score=-0.189 total time=   9.7s\n",
      "[CV 3/6] END kernel__gamma=100.0, kernel__n_components=1000;, score=-0.070 total time=  31.3s\n",
      "[CV 1/6] END kernel__gamma=1000.0, kernel__n_components=1000;, score=-0.343 total time=  26.6s\n",
      "[CV 4/6] END kernel__gamma=100.0, kernel__n_components=1000;, score=-0.852 total time=  32.1s\n",
      "[CV 3/6] END kernel__gamma=1000.0, kernel__n_components=1000;, score=-0.069 total time=  19.6s\n",
      "[CV 5/6] END kernel__gamma=1000.0, kernel__n_components=1000;, score=-0.151 total time=  18.9s\n"
     ]
    },
    {
     "data": {
      "text/plain": [
       "(0.5576142982039061, {'kernel__gamma': 0.001, 'kernel__n_components': 100})"
      ]
     },
     "execution_count": 14,
     "metadata": {},
     "output_type": "execute_result"
    }
   ],
   "source": [
    "from sklearn.model_selection import GridSearchCV\n",
    "\n",
    "tscv = GapRollForward(\n",
    "    min_train_size=TRAIN_MIN_SIZE, \n",
    "    max_train_size=TRAIN_MAX_SIZE,\n",
    "    min_test_size=TEST_MIN_SIZE, \n",
    "    max_test_size=TEST_MAX_SIZE,\n",
    "    roll_size=ROLL_SIZE\n",
    ")\n",
    "\n",
    "pipe = Pipeline([\n",
    "    ('imputer', KNNImputer()), ('scaler', StandardScaler()), \n",
    "    ('kernel', Nystroem(n_jobs=-1)), ('sgd', SGDRegressor())\n",
    "])\n",
    "\n",
    "gamma_range = np.logspace(-9, 3, 13)\n",
    "search = GridSearchCV(pipe, \n",
    "        param_grid={'kernel__gamma': gamma_range, 'kernel__n_components': [100, 1000]}, \n",
    "        n_jobs=-1, cv=tscv, verbose=3, refit=True)\n",
    "\n",
    "search.fit(X_train, y_train)\n",
    "search.best_score_, search.best_params_"
   ]
  },
  {
   "cell_type": "code",
   "execution_count": 15,
   "metadata": {},
   "outputs": [
    {
     "data": {
      "text/plain": [
       "0.20987481580175263"
      ]
     },
     "execution_count": 15,
     "metadata": {},
     "output_type": "execute_result"
    }
   ],
   "source": [
    "pred = search.predict(X_test)\n",
    "((y_test - pred) / y_test).abs().mean()"
   ]
  },
  {
   "cell_type": "code",
   "execution_count": 16,
   "metadata": {},
   "outputs": [
    {
     "data": {
      "text/plain": [
       "<Axes: xlabel='datetime', ylabel='value'>"
      ]
     },
     "execution_count": 16,
     "metadata": {},
     "output_type": "execute_result"
    },
    {
     "data": {
      "image/png": "[encoded data removed]",
      "text/plain": [
       "<Figure size 640x480 with 1 Axes>"
      ]
     },
     "metadata": {},
     "output_type": "display_data"
    }
   ],
   "source": [
    "pred_df = df.loc[test_ind,:].copy()\n",
    "pred_df['prediction'] = pred\n",
    "plot_df = pred_df.melt(id_vars='datetime', value_vars=['net_load', 'prediction'])\n",
    "sns.lineplot(plot_df, x='datetime', y='value', hue='variable')"
   ]
  }
 ],
 "metadata": {
  "kernelspec": {
   "display_name": "base",
   "language": "python",
   "name": "python3"
  },
  "language_info": {
   "codemirror_mode": {
    "name": "ipython",
    "version": 3
   },
   "file_extension": ".py",
   "mimetype": "text/x-python",
   "name": "python",
   "nbconvert_exporter": "python",
   "pygments_lexer": "ipython3",
   "version": "3.9.12"
  },
  "orig_nbformat": 4
 },
 "nbformat": 4,
 "nbformat_minor": 2
}
